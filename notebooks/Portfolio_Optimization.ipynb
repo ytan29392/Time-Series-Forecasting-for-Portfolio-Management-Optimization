{
 "cells": [
  {
   "cell_type": "code",
   "execution_count": null,
   "id": "aa4da5d3",
   "metadata": {},
   "outputs": [],
   "source": [
    "import yfinance as yf\n",
    "\n",
    "tickers = ['TSLA', 'SPY', 'BND']\n",
    "data = yf.download(tickers, start='2019-01-01', end='2025-08-01')['Adj Close']\n",
    "returns = data.pct_change().dropna()\n"
   ]
  },
  {
   "cell_type": "code",
   "execution_count": null,
   "id": "1a691266",
   "metadata": {},
   "outputs": [],
   "source": [
    "# TSLA: Expected return from forecast\n",
    "tsla_predicted = future_series\n",
    "tsla_return = (tsla_predicted[-1] - tsla_predicted[0]) / tsla_predicted[0]\n",
    "tsla_expected_annual_return = tsla_return  # assuming 1-year forecast\n",
    "\n",
    "# SPY & BND: Historical mean daily return, annualized\n",
    "spy_bnd_returns = returns[['SPY', 'BND']]\n",
    "mean_daily_returns = spy_bnd_returns.mean()\n",
    "spy_expected = mean_daily_returns['SPY'] * 252\n",
    "bnd_expected = mean_daily_returns['BND'] * 252\n",
    "\n",
    "expected_returns = pd.Series([tsla_expected_annual_return, spy_expected, bnd_expected], index=['TSLA', 'SPY', 'BND'])\n",
    "cov_matrix = returns[['TSLA', 'SPY', 'BND']].cov() * 252  # Annualized\n"
   ]
  },
  {
   "cell_type": "code",
   "execution_count": null,
   "id": "8b0051e9",
   "metadata": {},
   "outputs": [],
   "source": [
    "from portfolio_optimizer import generate_portfolios, optimize_portfolios, plot_efficient_frontier\n",
    "\n",
    "# Generate portfolios\n",
    "results_df, weights_df = generate_portfolios(expected_returns, cov_matrix)\n",
    "\n",
    "# Optimize\n",
    "opt_sharpe, opt_vol = optimize_portfolios(expected_returns, cov_matrix)\n",
    "\n",
    "# Plot\n",
    "plot_efficient_frontier(results_df, opt_sharpe, opt_vol, expected_returns)\n"
   ]
  },
  {
   "cell_type": "code",
   "execution_count": null,
   "id": "237df84f",
   "metadata": {},
   "outputs": [],
   "source": [
    "def summarize_portfolio(opt_result, expected_returns, cov_matrix):\n",
    "    weights = opt_result.x\n",
    "    ret, vol, sharpe = portfolio_stats(weights, expected_returns, cov_matrix)\n",
    "    summary = pd.DataFrame({\n",
    "        'Weights': weights\n",
    "    }, index=expected_returns.index)\n",
    "    print(summary)\n",
    "    print(f\"\\nExpected Annual Return: {ret:.2%}\")\n",
    "    print(f\"Volatility: {vol:.2%}\")\n",
    "    print(f\"Sharpe Ratio: {sharpe:.2f}\")\n",
    "    return summary\n",
    "\n",
    "print(\"🔴 Maximum Sharpe Ratio Portfolio\")\n",
    "summarize_portfolio(opt_sharpe, expected_returns, cov_matrix)\n",
    "\n",
    "print(\"\\n🔵 Minimum Volatility Portfolio\")\n",
    "summarize_portfolio(opt_vol, expected_returns, cov_matrix)\n"
   ]
  }
 ],
 "metadata": {
  "language_info": {
   "name": "python"
  }
 },
 "nbformat": 4,
 "nbformat_minor": 5
}
