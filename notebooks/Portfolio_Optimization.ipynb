{
 "cells": [
  {
   "cell_type": "code",
   "execution_count": null,
   "id": "aa4da5d3",
   "metadata": {},
   "outputs": [],
   "source": [
    "import yfinance as yf\n",
    "\n",
    "tickers = ['TSLA', 'SPY', 'BND']\n",
    "data = yf.download(tickers, start='2019-01-01', end='2025-08-01')['Adj Close']\n",
    "returns = data.pct_change().dropna()\n"
   ]
  }
 ],
 "metadata": {
  "language_info": {
   "name": "python"
  }
 },
 "nbformat": 4,
 "nbformat_minor": 5
}
