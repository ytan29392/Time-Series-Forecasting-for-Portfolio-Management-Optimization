{
 "cells": [
  {
   "cell_type": "code",
   "execution_count": null,
   "id": "c5c80e6c",
   "metadata": {},
   "outputs": [],
   "source": [
    "from forecast_analysis import forecast_future_arima, plot_forecast\n",
    "\n",
    "# Use your trained ARIMA model from Task 2\n",
    "future_forecast, future_confint = forecast_future_arima(\n",
    "    model=arima_model,\n",
    "    last_date=tsla.index[-1],\n",
    "    steps=252  # ~12 months\n",
    ")\n",
    "\n",
    "plot_forecast(tsla, future_forecast, future_confint, title=\"TSLA ARIMA Forecast (Next 12 Months)\")\n"
   ]
  }
 ],
 "metadata": {
  "language_info": {
   "name": "python"
  }
 },
 "nbformat": 4,
 "nbformat_minor": 5
}
