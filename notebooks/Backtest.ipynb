{
 "cells": [
  {
   "cell_type": "code",
   "execution_count": null,
   "id": "9572e538",
   "metadata": {},
   "outputs": [],
   "source": [
    "import yfinance as yf\n",
    "import pandas as pd\n",
    "from datetime import datetime\n",
    "\n",
    "tickers = ['TSLA', 'SPY', 'BND']\n",
    "backtest_start = '2024-08-01'\n",
    "backtest_end = '2025-07-31'\n",
    "\n",
    "backtest_data = yf.download(tickers, start=backtest_start, end=backtest_end)['Adj Close']"
   ]
  },
  {
   "cell_type": "code",
   "execution_count": null,
   "id": "4ad650f4",
   "metadata": {},
   "outputs": [],
   "source": [
    "# Use optimal weights from Task 4\n",
    "strategy_weights = opt_sharpe.x  # or opt_vol.x if you prefer lower risk\n",
    "\n",
    "# Benchmark weights (60% SPY, 40% BND)\n",
    "benchmark_weights = np.array([0, 0.6, 0.4])  # No TSLA\n"
   ]
  },
  {
   "cell_type": "code",
   "execution_count": null,
   "id": "06fa4096",
   "metadata": {},
   "outputs": [],
   "source": [
    "from backtester import backtest_strategy\n",
    "\n",
    "strategy_r, benchmark_r, strategy_cum, benchmark_cum = backtest_strategy(\n",
    "    price_df=backtest_data,\n",
    "    strategy_weights=strategy_weights,\n",
    "    benchmark_weights=benchmark_weights,\n",
    "    start=backtest_start,\n",
    "    end=backtest_end\n",
    ")\n"
   ]
  },
  {
   "cell_type": "code",
   "execution_count": null,
   "id": "46e99723",
   "metadata": {},
   "outputs": [],
   "source": [
    "import matplotlib.pyplot as plt\n",
    "\n",
    "plt.figure(figsize=(12, 6))\n",
    "plt.plot(strategy_cum, label='Your Strategy')\n",
    "plt.plot(benchmark_cum, label='60/40 Benchmark')\n",
    "plt.title(\"Backtest: Strategy vs Benchmark (Aug 2024 – Jul 2025)\")\n",
    "plt.xlabel(\"Date\")\n",
    "plt.ylabel(\"Cumulative Return\")\n",
    "plt.legend()\n",
    "plt.grid(True)\n",
    "plt.show()\n"
   ]
  },
  {
   "cell_type": "code",
   "execution_count": null,
   "id": "17a672b0",
   "metadata": {},
   "outputs": [],
   "source": [
    "def evaluate_backtest(strategy_r, benchmark_r, rf_rate=0.015):\n",
    "    def sharpe(r):\n",
    "        excess = r - rf_rate / 252\n",
    "        return np.sqrt(252) * (excess.mean() / excess.std())\n",
    "\n",
    "    strategy_total_return = strategy_cum.iloc[-1] - 1\n",
    "    benchmark_total_return = benchmark_cum.iloc[-1] - 1\n",
    "\n",
    "    print(f\"Strategy Total Return: {strategy_total_return:.2%}\")\n",
    "    print(f\"Benchmark Total Return: {benchmark_total_return:.2%}\")\n",
    "    print(f\"Strategy Sharpe Ratio: {sharpe(strategy_r):.2f}\")\n",
    "    print(f\"Benchmark Sharpe Ratio: {sharpe(benchmark_r):.2f}\")\n"
   ]
  }
 ],
 "metadata": {
  "language_info": {
   "name": "python"
  }
 },
 "nbformat": 4,
 "nbformat_minor": 5
}
