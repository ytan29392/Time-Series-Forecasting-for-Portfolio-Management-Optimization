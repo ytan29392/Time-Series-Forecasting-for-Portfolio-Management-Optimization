{
 "cells": [
  {
   "cell_type": "markdown",
   "id": "fe7cba3b",
   "metadata": {},
   "source": [
    "Import"
   ]
  },
  {
   "cell_type": "code",
   "execution_count": null,
   "id": "initial_id",
   "metadata": {
    "collapsed": true
   },
   "outputs": [],
   "source": [
    "import matplotlib.pyplot as plt\n",
    "import seaborn as sns\n",
    "from statsmodels.tsa.stattools import adfuller\n",
    "import numpy as np\n",
    "\n",
    "from ../src/data_preprocessing import preprocess_data\n",
    "\n",
    "sns.set(style=\"whitegrid\")"
   ]
  },
  {
   "cell_type": "markdown",
   "id": "ed8f01e5",
   "metadata": {},
   "source": [
    "Get preprocessed data"
   ]
  },
  {
   "cell_type": "code",
   "execution_count": null,
   "id": "2d2f987c63bffc01",
   "metadata": {},
   "outputs": [],
   "source": [
    "data_dict = preprocess_data()\n",
    "pivot_close = data_dict[\"pivot_close\"]\n",
    "daily_returns = data_dict[\"daily_returns\"]\n",
    "rolling_volatility = data_dict[\"rolling_volatility\"]"
   ]
  },
  {
   "cell_type": "markdown",
   "id": "3a7b9c3f",
   "metadata": {},
   "source": [
    "Closing prices plot"
   ]
  },
  {
   "cell_type": "code",
   "execution_count": null,
   "id": "2b8f73c5350142e2",
   "metadata": {},
   "outputs": [],
   "source": [
    "\n",
    "pivot_close.plot(title='Asset Closing Prices', figsize=(14, 6))\n",
    "plt.ylabel('Price ($)')\n",
    "plt.show()"
   ]
  },
  {
   "cell_type": "markdown",
   "id": "76429fa2",
   "metadata": {},
   "source": [
    "Daily returns plot"
   ]
  },
  {
   "cell_type": "code",
   "execution_count": null,
   "id": "f8c7956fa1679940",
   "metadata": {},
   "outputs": [],
   "source": [
    "daily_returns.plot(title='Daily Returns', figsize=(14, 6))\n",
    "plt.ylabel('Returns')\n",
    "plt.show()"
   ]
  },
  {
   "cell_type": "markdown",
   "id": "97784760",
   "metadata": {},
   "source": [
    "Rolling volatility plot"
   ]
  },
  {
   "cell_type": "code",
   "execution_count": null,
   "id": "e1dbae6d338cc229",
   "metadata": {},
   "outputs": [],
   "source": [
    "rolling_volatility.plot(title='30-Day Rolling Volatility', figsize=(14, 6))\n",
    "plt.ylabel('Volatility')\n",
    "plt.show()"
   ]
  },
  {
   "cell_type": "markdown",
   "id": "7a7ceda3",
   "metadata": {},
   "source": [
    "ADF test"
   ]
  },
  {
   "cell_type": "code",
   "execution_count": null,
   "id": "d1de47c710878730",
   "metadata": {},
   "outputs": [],
   "source": [
    "def adf_test(series, title=''):\n",
    "    result = adfuller(series.dropna(), autolag='AIC')\n",
    "    print(f'ADF Test for {title}')\n",
    "    print(f'Test Statistic: {result[0]}')\n",
    "    print(f'p-value: {result[1]}')\n",
    "    for key, value in result[4].items():\n",
    "        print(f'   {key}: {value}')\n",
    "    print(\"Stationary\" if result[1] < 0.05 else \"Not Stationary\")\n",
    "\n",
    "adf_test(pivot_close['TSLA'], title='TSLA Closing Prices')\n",
    "adf_test(daily_returns['TSLA'], title='TSLA Daily Returns')"
   ]
  },
  {
   "cell_type": "markdown",
   "id": "7583c722",
   "metadata": {},
   "source": [
    "Value at Risk"
   ]
  },
  {
   "cell_type": "code",
   "execution_count": null,
   "id": "c6fed8ce3d5ff91c",
   "metadata": {},
   "outputs": [],
   "source": [
    "var_95 = daily_returns.quantile(0.05)\n",
    "print(\"Value at Risk (5% quantile):\\n\", var_95)"
   ]
  },
  {
   "cell_type": "markdown",
   "id": "744c79a9",
   "metadata": {},
   "source": [
    "Sharpe Ratios"
   ]
  },
  {
   "cell_type": "code",
   "execution_count": null,
   "id": "15b66abb56b38d89",
   "metadata": {},
   "outputs": [],
   "source": [
    "sharpe_ratio = (daily_returns.mean() / daily_returns.std()) * np.sqrt(252)\n",
    "print(\"\\nSharpe Ratios:\\n\", sharpe_ratio)"
   ]
  }
 ],
 "metadata": {
  "kernelspec": {
   "display_name": "venv",
   "language": "python",
   "name": "python3"
  },
  "language_info": {
   "codemirror_mode": {
    "name": "ipython",
    "version": 2
   },
   "file_extension": ".py",
   "mimetype": "text/x-python",
   "name": "python",
   "nbconvert_exporter": "python",
   "pygments_lexer": "ipython2",
   "version": "3.11.9"
  }
 },
 "nbformat": 4,
 "nbformat_minor": 5
}
