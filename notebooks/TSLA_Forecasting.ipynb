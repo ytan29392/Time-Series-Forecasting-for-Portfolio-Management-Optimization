{
 "cells": [
  {
   "cell_type": "markdown",
   "id": "b7de0a18",
   "metadata": {},
   "source": [
    "Load Data"
   ]
  },
  {
   "cell_type": "code",
   "execution_count": null,
   "id": "433a75f3",
   "metadata": {},
   "outputs": [],
   "source": [
    "from src.data_loader import load_tsla_data\n",
    "tsla = load_tsla_data()"
   ]
  },
  {
   "cell_type": "markdown",
   "id": "ed8743e9",
   "metadata": {},
   "source": [
    "Chronological split"
   ]
  },
  {
   "cell_type": "code",
   "execution_count": null,
   "id": "4291abce",
   "metadata": {},
   "outputs": [],
   "source": [
    "train = tsla[:'2023-12-31']\n",
    "test = tsla['2024-01-01':]"
   ]
  },
  {
   "cell_type": "markdown",
   "id": "ddaf6e7e",
   "metadata": {},
   "source": [
    "Train ARIMA"
   ]
  },
  {
   "cell_type": "code",
   "execution_count": null,
   "id": "59918afd",
   "metadata": {},
   "outputs": [],
   "source": [
    "from src.arima_model import train_arima_model, forecast_arima\n",
    "\n",
    "arima_model = train_arima_model(train)\n",
    "forecast_series, conf_int = forecast_arima(arima_model, test)\n"
   ]
  },
  {
   "cell_type": "markdown",
   "id": "180bee65",
   "metadata": {},
   "source": [
    "Evaluate"
   ]
  },
  {
   "cell_type": "code",
   "execution_count": null,
   "id": "cc9c8e43",
   "metadata": {},
   "outputs": [],
   "source": [
    "from src.utils import evaluate_forecast\n",
    "\n",
    "mae, rmse, mape = evaluate_forecast(test, forecast_series)\n",
    "print(f\"ARIMA -> MAE: {mae:.2f}, RMSE: {rmse:.2f}, MAPE: {mape:.2f}%\")"
   ]
  }
 ],
 "metadata": {
  "kernelspec": {
   "display_name": ".venv",
   "language": "python",
   "name": "python3"
  },
  "language_info": {
   "name": "python",
   "version": "3.13.5"
  }
 },
 "nbformat": 4,
 "nbformat_minor": 5
}
