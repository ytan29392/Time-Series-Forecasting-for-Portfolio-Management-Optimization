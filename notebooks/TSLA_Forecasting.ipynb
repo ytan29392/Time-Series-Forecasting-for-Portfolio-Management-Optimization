{
 "cells": [
  {
   "cell_type": "markdown",
   "id": "b7de0a18",
   "metadata": {},
   "source": [
    "Load Data"
   ]
  },
  {
   "cell_type": "code",
   "execution_count": null,
   "id": "433a75f3",
   "metadata": {},
   "outputs": [],
   "source": [
    "# !pip install yfinance\n",
    "\n",
    "import yfinance as yf\n",
    "import sys\n",
    "from pathlib import Path\n",
    "\n",
    "src_path = Path().resolve().parents[0] / \"src\"\n",
    "sys.path.append(str(src_path))\n",
    "\n",
    "from data_loader import load_tsla_data\n",
    "tsla = load_tsla_data()"
   ]
  },
  {
   "cell_type": "code",
   "execution_count": 4,
   "id": "56cf46c1",
   "metadata": {},
   "outputs": [
    {
     "name": "stdout",
     "output_type": "stream",
     "text": [
      "Requirement already satisfied: numpy in e:\\kaim projec\\time series forecasting for portfolio management optimization\\.venv\\lib\\site-packages (2.3.2)\n"
     ]
    },
    {
     "name": "stderr",
     "output_type": "stream",
     "text": [
      "\n",
      "[notice] A new release of pip is available: 25.1.1 -> 25.2\n",
      "[notice] To update, run: python.exe -m pip install --upgrade pip\n"
     ]
    },
    {
     "ename": "ModuleNotFoundError",
     "evalue": "No module named 'tensorflow'",
     "output_type": "error",
     "traceback": [
      "\u001b[31m---------------------------------------------------------------------------\u001b[39m",
      "\u001b[31mModuleNotFoundError\u001b[39m                       Traceback (most recent call last)",
      "\u001b[36mCell\u001b[39m\u001b[36m \u001b[39m\u001b[32mIn[4]\u001b[39m\u001b[32m, line 10\u001b[39m\n\u001b[32m      7\u001b[39m src_path = Path().resolve().parents[\u001b[32m0\u001b[39m] / \u001b[33m\"\u001b[39m\u001b[33msrc\u001b[39m\u001b[33m\"\u001b[39m\n\u001b[32m      8\u001b[39m sys.path.append(\u001b[38;5;28mstr\u001b[39m(src_path))\n\u001b[32m---> \u001b[39m\u001b[32m10\u001b[39m \u001b[38;5;28;01mfrom\u001b[39;00m\u001b[38;5;250m \u001b[39m\u001b[34;01mlstm_model\u001b[39;00m\u001b[38;5;250m \u001b[39m\u001b[38;5;28;01mimport\u001b[39;00m prepare_lstm_data\n\u001b[32m     12\u001b[39m SEQ_LEN = \u001b[32m60\u001b[39m  \u001b[38;5;66;03m# You can tune this later\u001b[39;00m\n\u001b[32m     14\u001b[39m X_train, y_train, X_test, scaler = prepare_lstm_data(train, test, seq_length=SEQ_LEN)\n",
      "\u001b[36mFile \u001b[39m\u001b[32mE:\\kaim projec\\Time Series Forecasting for Portfolio Management Optimization\\src\\lstm_model.py:2\u001b[39m\n\u001b[32m      1\u001b[39m \u001b[38;5;28;01mimport\u001b[39;00m\u001b[38;5;250m \u001b[39m\u001b[34;01mnumpy\u001b[39;00m\u001b[38;5;250m \u001b[39m\u001b[38;5;28;01mas\u001b[39;00m\u001b[38;5;250m \u001b[39m\u001b[34;01mnp\u001b[39;00m\n\u001b[32m----> \u001b[39m\u001b[32m2\u001b[39m \u001b[38;5;28;01mfrom\u001b[39;00m\u001b[38;5;250m \u001b[39m\u001b[34;01mtensorflow\u001b[39;00m\u001b[34;01m.\u001b[39;00m\u001b[34;01mkeras\u001b[39;00m\u001b[34;01m.\u001b[39;00m\u001b[34;01mmodels\u001b[39;00m\u001b[38;5;250m \u001b[39m\u001b[38;5;28;01mimport\u001b[39;00m Sequential\n\u001b[32m      3\u001b[39m \u001b[38;5;28;01mfrom\u001b[39;00m\u001b[38;5;250m \u001b[39m\u001b[34;01mtensorflow\u001b[39;00m\u001b[34;01m.\u001b[39;00m\u001b[34;01mkeras\u001b[39;00m\u001b[34;01m.\u001b[39;00m\u001b[34;01mlayers\u001b[39;00m\u001b[38;5;250m \u001b[39m\u001b[38;5;28;01mimport\u001b[39;00m LSTM, Dense\n\u001b[32m      4\u001b[39m \u001b[38;5;28;01mfrom\u001b[39;00m\u001b[38;5;250m \u001b[39m\u001b[34;01msklearn\u001b[39;00m\u001b[34;01m.\u001b[39;00m\u001b[34;01mpreprocessing\u001b[39;00m\u001b[38;5;250m \u001b[39m\u001b[38;5;28;01mimport\u001b[39;00m MinMaxScaler\n",
      "\u001b[31mModuleNotFoundError\u001b[39m: No module named 'tensorflow'"
     ]
    }
   ],
   "source": [
    "!pip install numpy\n",
    "import numpy as np\n",
    "import sys\n",
    "from pathlib import Path\n",
    "\n",
    "# Add ../src to sys.path\n",
    "src_path = Path().resolve().parents[0] / \"src\"\n",
    "sys.path.append(str(src_path))\n",
    "\n",
    "from lstm_model import prepare_lstm_data\n",
    "\n",
    "SEQ_LEN = 60  # You can tune this later\n",
    "\n",
    "X_train, y_train, X_test, scaler = prepare_lstm_data(train, test, seq_length=SEQ_LEN)\n",
    "\n",
    "print(\"X_train shape:\", X_train.shape)\n",
    "print(\"X_test shape:\", X_test.shape)\n"
   ]
  },
  {
   "cell_type": "markdown",
   "id": "530cc77d",
   "metadata": {},
   "source": [
    "Build and Train the LSTM Model"
   ]
  },
  {
   "cell_type": "code",
   "execution_count": null,
   "id": "67a06391",
   "metadata": {},
   "outputs": [],
   "source": [
    "import sys\n",
    "from pathlib import Path\n",
    "\n",
    "# Add ../src to sys.path\n",
    "src_path = Path().resolve().parents[0] / \"src\"\n",
    "sys.path.append(str(src_path))\n",
    "\n",
    "from lstm_model import build_lstm_model\n",
    "\n",
    "model = build_lstm_model(input_shape=(SEQ_LEN, 1))\n",
    "model.fit(X_train, y_train, epochs=10, batch_size=32, verbose=1)\n"
   ]
  },
  {
   "cell_type": "markdown",
   "id": "ed8743e9",
   "metadata": {},
   "source": [
    "Chronological split"
   ]
  },
  {
   "cell_type": "code",
   "execution_count": null,
   "id": "4291abce",
   "metadata": {},
   "outputs": [],
   "source": [
    "train = tsla[:'2023-12-31']\n",
    "test = tsla['2024-01-01':]"
   ]
  },
  {
   "cell_type": "markdown",
   "id": "ddaf6e7e",
   "metadata": {},
   "source": [
    "Train ARIMA"
   ]
  },
  {
   "cell_type": "code",
   "execution_count": null,
   "id": "59918afd",
   "metadata": {},
   "outputs": [],
   "source": [
    "import sys\n",
    "from pathlib import Path\n",
    "\n",
    "src_path = Path().resolve().parents[0] / \"src\"\n",
    "sys.path.append(str(src_path))\n",
    "\n",
    "from arima_model import train_arima_model, forecast_arima\n",
    "\n",
    "arima_model = train_arima_model(train)\n",
    "forecast_series, conf_int = forecast_arima(arima_model, test)\n"
   ]
  },
  {
   "cell_type": "markdown",
   "id": "1cc275c2",
   "metadata": {},
   "source": [
    "Forecast Using LSTM"
   ]
  },
  {
   "cell_type": "code",
   "execution_count": null,
   "id": "51054cd9",
   "metadata": {},
   "outputs": [],
   "source": [
    "import sys\n",
    "from pathlib import Path\n",
    "\n",
    "# Add ../src to sys.path\n",
    "src_path = Path().resolve().parents[0] / \"src\"\n",
    "sys.path.append(str(src_path))\n",
    "\n",
    "from lstm_model import forecast_lstm\n",
    "\n",
    "predicted_lstm = forecast_lstm(model, X_test, scaler)\n",
    "\n",
    "# Wrap in a Pandas Series with the correct index\n",
    "forecast_series_lstm = pd.Series(predicted_lstm, index=test.index)\n"
   ]
  },
  {
   "cell_type": "markdown",
   "id": "180bee65",
   "metadata": {},
   "source": [
    "Evaluate"
   ]
  },
  {
   "cell_type": "code",
   "execution_count": null,
   "id": "cc9c8e43",
   "metadata": {},
   "outputs": [],
   "source": [
    "import sys\n",
    "from pathlib import Path\n",
    "\n",
    "# Add ../src to sys.path\n",
    "src_path = Path().resolve().parents[0] / \"src\"\n",
    "sys.path.append(str(src_path))\n",
    "\n",
    "from utils import evaluate_forecast\n",
    "\n",
    "mae, rmse, mape = evaluate_forecast(test, forecast_series)\n",
    "print(f\"ARIMA -> MAE: {mae:.2f}, RMSE: {rmse:.2f}, MAPE: {mape:.2f}%\")"
   ]
  },
  {
   "cell_type": "markdown",
   "id": "e2291c6b",
   "metadata": {},
   "source": [
    "Evaluate and Visualize "
   ]
  },
  {
   "cell_type": "code",
   "execution_count": null,
   "id": "0f97a169",
   "metadata": {},
   "outputs": [],
   "source": [
    "import sys\n",
    "from pathlib import Path\n",
    "\n",
    "# Add ../src to sys.path\n",
    "src_path = Path().resolve().parents[0] / \"src\"\n",
    "sys.path.append(str(src_path))\n",
    "\n",
    "from utils import evaluate_forecast\n",
    "\n",
    "mae_lstm, rmse_lstm, mape_lstm = evaluate_forecast(test, forecast_series_lstm)\n",
    "print(f\"LSTM Forecast → MAE: {mae_lstm:.2f}, RMSE: {rmse_lstm:.2f}, MAPE: {mape_lstm:.2f}%\")\n",
    "\n",
    "# Plot\n",
    "import matplotlib.pyplot as plt\n",
    "\n",
    "plt.figure(figsize=(12, 6))\n",
    "plt.plot(test, label='Actual')\n",
    "plt.plot(forecast_series_lstm, label='LSTM Forecast')\n",
    "plt.title(\"LSTM Forecast vs Actual TSLA Price (2024–2025)\")\n",
    "plt.legend()\n",
    "plt.show()\n"
   ]
  }
 ],
 "metadata": {
  "kernelspec": {
   "display_name": ".venv",
   "language": "python",
   "name": "python3"
  },
  "language_info": {
   "codemirror_mode": {
    "name": "ipython",
    "version": 3
   },
   "file_extension": ".py",
   "mimetype": "text/x-python",
   "name": "python",
   "nbconvert_exporter": "python",
   "pygments_lexer": "ipython3",
   "version": "3.13.5"
  }
 },
 "nbformat": 4,
 "nbformat_minor": 5
}
