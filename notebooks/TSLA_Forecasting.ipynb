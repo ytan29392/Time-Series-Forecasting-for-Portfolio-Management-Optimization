{
 "cells": [
  {
   "cell_type": "markdown",
   "id": "b7de0a18",
   "metadata": {},
   "source": [
    "Load Data"
   ]
  },
  {
   "cell_type": "code",
   "execution_count": 1,
   "id": "433a75f3",
   "metadata": {},
   "outputs": [
    {
     "ename": "ModuleNotFoundError",
     "evalue": "No module named 'src'",
     "output_type": "error",
     "traceback": [
      "\u001b[31m---------------------------------------------------------------------------\u001b[39m",
      "\u001b[31mModuleNotFoundError\u001b[39m                       Traceback (most recent call last)",
      "\u001b[36mCell\u001b[39m\u001b[36m \u001b[39m\u001b[32mIn[1]\u001b[39m\u001b[32m, line 1\u001b[39m\n\u001b[32m----> \u001b[39m\u001b[32m1\u001b[39m \u001b[38;5;28;01mfrom\u001b[39;00m\u001b[38;5;250m \u001b[39m\u001b[34;01msrc\u001b[39;00m\u001b[34;01m.\u001b[39;00m\u001b[34;01mdata_loader\u001b[39;00m\u001b[38;5;250m \u001b[39m\u001b[38;5;28;01mimport\u001b[39;00m load_tsla_data\n\u001b[32m      2\u001b[39m tsla = load_tsla_data()\n",
      "\u001b[31mModuleNotFoundError\u001b[39m: No module named 'src'"
     ]
    }
   ],
   "source": [
    "from src.data_loader import load_tsla_data\n",
    "tsla = load_tsla_data()"
   ]
  },
  {
   "cell_type": "markdown",
   "id": "ed8743e9",
   "metadata": {},
   "source": [
    "Chronological split"
   ]
  },
  {
   "cell_type": "code",
   "execution_count": null,
   "id": "4291abce",
   "metadata": {},
   "outputs": [],
   "source": [
    "train = tsla[:'2023-12-31']\n",
    "test = tsla['2024-01-01':]"
   ]
  },
  {
   "cell_type": "markdown",
   "id": "ddaf6e7e",
   "metadata": {},
   "source": [
    "Train ARIMA"
   ]
  },
  {
   "cell_type": "code",
   "execution_count": null,
   "id": "59918afd",
   "metadata": {},
   "outputs": [],
   "source": [
    "from src.arima_model import train_arima_model, forecast_arima\n",
    "\n",
    "arima_model = train_arima_model(train)\n",
    "forecast_series, conf_int = forecast_arima(arima_model, test)\n"
   ]
  },
  {
   "cell_type": "markdown",
   "id": "180bee65",
   "metadata": {},
   "source": [
    "Evaluate"
   ]
  },
  {
   "cell_type": "code",
   "execution_count": null,
   "id": "cc9c8e43",
   "metadata": {},
   "outputs": [],
   "source": [
    "from src.utils import evaluate_forecast\n",
    "\n",
    "mae, rmse, mape = evaluate_forecast(test, forecast_series)\n",
    "print(f\"ARIMA -> MAE: {mae:.2f}, RMSE: {rmse:.2f}, MAPE: {mape:.2f}%\")"
   ]
  }
 ],
 "metadata": {
  "kernelspec": {
   "display_name": ".venv",
   "language": "python",
   "name": "python3"
  },
  "language_info": {
   "codemirror_mode": {
    "name": "ipython",
    "version": 3
   },
   "file_extension": ".py",
   "mimetype": "text/x-python",
   "name": "python",
   "nbconvert_exporter": "python",
   "pygments_lexer": "ipython3",
   "version": "3.13.5"
  }
 },
 "nbformat": 4,
 "nbformat_minor": 5
}
