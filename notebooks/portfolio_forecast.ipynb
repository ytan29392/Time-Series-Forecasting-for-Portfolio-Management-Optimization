{
 "cells": [
  {
   "cell_type": "markdown",
   "id": "bc9ba5fe",
   "metadata": {},
   "source": [
    "Import"
   ]
  },
  {
   "cell_type": "code",
   "execution_count": null,
   "id": "77ecf167",
   "metadata": {},
   "outputs": [],
   "source": [
    "from pathlib import Path\n",
    "import sys"
   ]
  },
  {
   "cell_type": "markdown",
   "id": "b88c1b62",
   "metadata": {},
   "source": [
    "Load"
   ]
  },
  {
   "cell_type": "code",
   "execution_count": null,
   "id": "ae8416ee",
   "metadata": {},
   "outputs": [],
   "source": [
    "sys.path.append(str(Path(__file__).resolve().parents[1] / \"src\"))\n",
    "\n",
    "from data_utils import load_price_data, add_log_returns\n",
    "\n",
    "# Load and prepare data\n",
    "df = load_price_data(\"sample.csv\")\n",
    "df = add_log_returns(df)\n",
    "\n",
    "print(df.head())\n"
   ]
  }
 ],
 "metadata": {
  "kernelspec": {
   "display_name": ".venv",
   "language": "python",
   "name": "python3"
  },
  "language_info": {
   "name": "python",
   "version": "3.13.5"
  }
 },
 "nbformat": 4,
 "nbformat_minor": 5
}
